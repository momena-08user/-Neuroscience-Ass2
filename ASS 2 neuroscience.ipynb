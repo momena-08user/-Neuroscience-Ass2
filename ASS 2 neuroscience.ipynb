{
 "cells": [
  {
   "cell_type": "code",
   "execution_count": 3,
   "id": "41e202e9",
   "metadata": {
    "scrolled": false
   },
   "outputs": [
    {
     "name": "stdout",
     "output_type": "stream",
     "text": [
      "Iteration 1, Error: 0.24711084142325693\n",
      "Iteration 2, Error: 0.2238789474689678\n",
      "Iteration 3, Error: 0.2021275850719645\n",
      "Iteration 4, Error: 0.18208219376742368\n",
      "\n",
      "Final Results:\n",
      "Hidden Layer Outputs: [0.59196862 0.6539247 ]\n",
      "Output Layer Outputs: [0.50947586 0.71022034]\n",
      "Target Outputs: [0.01 0.99]\n",
      "Final Weights (Input to Hidden):\n",
      "[[0.14973381 0.2496956 ]\n",
      " [0.19946761 0.29939119]]\n",
      "Final Weights (Hidden to Output):\n",
      "[[0.23572291 0.58022076]\n",
      " [0.26852892 0.63861689]]\n",
      "Final Biases (Hidden): [0.34467611 0.59391191]\n",
      "Final Biases (Output): [-0.27723029  0.13537457]\n"
     ]
    }
   ],
   "source": [
    "import numpy as np\n",
    "\n",
    "def sigmoid(x):\n",
    "    return 1 / (1 + np.exp(-x))\n",
    "\n",
    "def sigmoid_derivative(x):\n",
    "    return x * (1 - x)\n",
    "\n",
    "input_size = 2 \n",
    "hidden_size = 2  \n",
    "output_size = 2  \n",
    "\n",
    "weights_input_hidden = np.array([[0.15, 0.25],  \n",
    "                                [0.20, 0.30]])  \n",
    "weights_hidden_output = np.array([[0.40, 0.50],  \n",
    "                                 [0.45, 0.55]])  \n",
    "biases_hidden = np.array([0.35, 0.60])  \n",
    "biases_output = np.array([0.0, 0.0])    \n",
    "\n",
    "inputs = np.array([0.05, 0.10])  \n",
    "targets = np.array([0.01, 0.99])  \n",
    "\n",
    "learning_rate = 0.5\n",
    "\n",
    "def forward_propagation(inputs):\n",
    "    hidden_input = np.dot(inputs, weights_input_hidden) + biases_hidden\n",
    "    hidden_output = sigmoid(hidden_input)\n",
    "    \n",
    "    output_input = np.dot(hidden_output, weights_hidden_output) + biases_output\n",
    "    output = sigmoid(output_input)\n",
    "    \n",
    "    return hidden_output, output\n",
    "\n",
    "\n",
    "def backpropagation(inputs, targets, hidden_output, output):\n",
    "    global weights_input_hidden, weights_hidden_output, biases_hidden, biases_output\n",
    "    \n",
    "    output_error = targets - output\n",
    "    output_delta = output_error * sigmoid_derivative(output)\n",
    "    \n",
    "    hidden_error = np.dot(output_delta, weights_hidden_output.T)\n",
    "    hidden_delta = hidden_error * sigmoid_derivative(hidden_output)\n",
    "    \n",
    "    weights_hidden_output += learning_rate * np.outer(hidden_output, output_delta)\n",
    "    weights_input_hidden += learning_rate * np.outer(inputs, hidden_delta)\n",
    "    \n",
    "    biases_output += learning_rate * output_delta\n",
    "    biases_hidden += learning_rate * hidden_delta\n",
    "\n",
    "for _ in range(4):  \n",
    "    hidden_output, output = forward_propagation(inputs)\n",
    "    \n",
    "    error = np.mean(np.square(targets - output))\n",
    "    print(f\"Iteration {_ + 1}, Error: {error}\")\n",
    "    \n",
    "    backpropagation(inputs, targets, hidden_output, output)\n",
    "\n",
    "final_hidden_output, final_output = forward_propagation(inputs)\n",
    "print(\"\\nFinal Results:\")\n",
    "print(f\"Hidden Layer Outputs: {final_hidden_output}\")\n",
    "print(f\"Output Layer Outputs: {final_output}\")\n",
    "print(f\"Target Outputs: {targets}\")\n",
    "print(f\"Final Weights (Input to Hidden):\\n{weights_input_hidden}\")\n",
    "print(f\"Final Weights (Hidden to Output):\\n{weights_hidden_output}\")\n",
    "print(f\"Final Biases (Hidden): {biases_hidden}\")\n",
    "print(f\"Final Biases (Output): {biases_output}\")"
   ]
  },
  {
   "cell_type": "code",
   "execution_count": null,
   "id": "cee3dc90",
   "metadata": {
    "collapsed": true,
    "scrolled": true
   },
   "outputs": [],
   "source": []
  }
 ],
 "metadata": {
  "kernelspec": {
   "display_name": "Python 3 (ipykernel)",
   "language": "python",
   "name": "python3"
  },
  "language_info": {
   "codemirror_mode": {
    "name": "ipython",
    "version": 3
   },
   "file_extension": ".py",
   "mimetype": "text/x-python",
   "name": "python",
   "nbconvert_exporter": "python",
   "pygments_lexer": "ipython3",
   "version": "3.11.5"
  }
 },
 "nbformat": 4,
 "nbformat_minor": 5
}
