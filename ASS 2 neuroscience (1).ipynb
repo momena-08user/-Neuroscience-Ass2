{
 "cells": [
  {
   "cell_type": "markdown",
   "id": "838ea52f",
   "metadata": {},
   "source": [
    "# Forward Propagation"
   ]
  },
  {
   "cell_type": "code",
   "execution_count": 4,
   "id": "41e202e9",
   "metadata": {
    "scrolled": false
   },
   "outputs": [
    {
     "name": "stdout",
     "output_type": "stream",
     "text": [
      "Forward Output: [[0.62999638 0.65859967]]\n"
     ]
    }
   ],
   "source": [
    "import numpy as np\n",
    "\n",
    "def sigmoid(x):\n",
    "    return 1 / (1 + np.exp(-x))\n",
    "\n",
    "class NeuralNetworkForward:\n",
    "    def __init__(self):\n",
    "        # Inputs (2 nodes)\n",
    "        self.input = np.array([[0.05, 0.10]])  # I1 = 0.05, I2 = 0.10\n",
    "        \n",
    "        self.weights1 = np.array([[0.15, 0.25],  # From I1, I2 to H1, H2\n",
    "                                 [0.20, 0.30]])  # W1, W2, W3, W4\n",
    "        self.weights2 = np.array([[0.40, 0.50],  # From H1, H2 to O1, O2\n",
    "                                 [0.45, 0.55]])  # W5, W6, W7, W8\n",
    "        self.bias1 = np.array([0.35, 0.60])  # B1, B2 for the hidden layer\n",
    "        self.bias2 = np.array([0.0, 0.0])    # Biases for the output layer (can be initialized to 0)\n",
    "\n",
    "    def forward_propagation(self):\n",
    "        # Hidden Layer\n",
    "        self.hidden_layer_input = np.dot(self.input, self.weights1) + self.bias1\n",
    "        self.hidden_layer_output = sigmoid(self.hidden_layer_input)\n",
    "\n",
    "        # Output Layer\n",
    "        self.output_layer_input = np.dot(self.hidden_layer_output, self.weights2) + self.bias2\n",
    "        self.output_layer_output = sigmoid(self.output_layer_input)\n",
    "\n",
    "        return self.output_layer_output\n",
    "\n",
    "nn_forward = NeuralNetworkForward()\n",
    "output = nn_forward.forward_propagation()\n",
    "\n",
    "print(\"Forward Output:\", output)"
   ]
  },
  {
   "cell_type": "markdown",
   "id": "f82dae86",
   "metadata": {
    "collapsed": true,
    "scrolled": true
   },
   "source": [
    "# Backpropagation"
   ]
  },
  {
   "cell_type": "code",
   "execution_count": 6,
   "id": "9d81e7d0",
   "metadata": {},
   "outputs": [
    {
     "name": "stdout",
     "output_type": "stream",
     "text": [
      "Initial Output (Before Training): [[0.06080098 0.94238084]]\n",
      "Final Output (After Training): [[0.06080098 0.94238084]]\n",
      "Expected Output: [[0.01 0.99]]\n"
     ]
    }
   ],
   "source": [
    "import numpy as np\n",
    "\n",
    "def sigmoid(x):\n",
    "    return 1 / (1 + np.exp(-x))\n",
    "\n",
    "def sigmoid_derivative(x):\n",
    "    return x * (1 - x)\n",
    "\n",
    "class NeuralNetworkBackward:\n",
    "    def __init__(self):\n",
    "        self.input = np.array([[0.05, 0.10]])  # I1 = 0.05, I2 = 0.10\n",
    "        \n",
    "        # Weights and Biases as shown in the image\n",
    "        self.weights1 = np.array([[0.15, 0.25],  # From I1, I2 to H1, H2\n",
    "                                 [0.20, 0.30]])  # W1, W2, W3, W4\n",
    "        self.weights2 = np.array([[0.40, 0.50],  # From H1, H2 to O1, O2\n",
    "                                 [0.45, 0.55]])  # W5, W6, W7, W8\n",
    "        self.bias1 = np.array([0.35, 0.60])  # B1, B2 for the hidden layer (shape (2,))\n",
    "        self.bias2 = np.array([[0.0, 0.0]])   # Biases for the output layer (shape (1, 2))\n",
    "\n",
    "        self.target = np.array([[0.01, 0.99]])  # O1 = 0.01, O2 = 0.99\n",
    "\n",
    "        self.hidden_layer_output = None\n",
    "        self.output_layer_output = None\n",
    "\n",
    "    def forward_propagation(self):\n",
    "        # Hidden Layer\n",
    "        self.hidden_layer_input = np.dot(self.input, self.weights1) + self.bias1\n",
    "        self.hidden_layer_output = sigmoid(self.hidden_layer_input)\n",
    "\n",
    "        # Output Layer\n",
    "        self.output_layer_input = np.dot(self.hidden_layer_output, self.weights2) + self.bias2\n",
    "        self.output_layer_output = sigmoid(self.output_layer_input)\n",
    "\n",
    "        return self.output_layer_output\n",
    "\n",
    "    def backpropagation(self, learning_rate=0.1):\n",
    "        # Calculate errors\n",
    "        output_error = self.target - self.output_layer_output\n",
    "        output_delta = output_error * sigmoid_derivative(self.output_layer_output)\n",
    "\n",
    "        # Calculate hidden layer error\n",
    "        hidden_error = np.dot(output_delta, self.weights2.T)\n",
    "        hidden_delta = hidden_error * sigmoid_derivative(self.hidden_layer_output)\n",
    "\n",
    "        # Update weights and biases\n",
    "        self.weights2 += learning_rate * np.dot(self.hidden_layer_output.T, output_delta)\n",
    "        self.bias2 += learning_rate * np.sum(output_delta, axis=0, keepdims=True)  \n",
    "\n",
    "        self.weights1 += learning_rate * np.dot(self.input.T, hidden_delta)\n",
    "        \n",
    "        self.bias1 += learning_rate * np.sum(hidden_delta, axis=0)\n",
    "\n",
    "    def train(self, epochs=1000):\n",
    "        for _ in range(epochs):\n",
    "            self.forward_propagation()\n",
    "            self.backpropagation()\n",
    "\n",
    "        return self.forward_propagation()\n",
    "\n",
    "nn_backward = NeuralNetworkBackward()\n",
    "final_output = nn_backward.train(epochs=1000)\n",
    "\n",
    "print(\"Initial Output (Before Training):\", nn_backward.forward_propagation())\n",
    "print(\"Final Output (After Training):\", final_output)\n",
    "print(\"Expected Output:\", nn_backward.target)"
   ]
  },
  {
   "cell_type": "code",
   "execution_count": null,
   "id": "1636f6b2",
   "metadata": {},
   "outputs": [],
   "source": []
  }
 ],
 "metadata": {
  "kernelspec": {
   "display_name": "Python 3 (ipykernel)",
   "language": "python",
   "name": "python3"
  },
  "language_info": {
   "codemirror_mode": {
    "name": "ipython",
    "version": 3
   },
   "file_extension": ".py",
   "mimetype": "text/x-python",
   "name": "python",
   "nbconvert_exporter": "python",
   "pygments_lexer": "ipython3",
   "version": "3.11.5"
  }
 },
 "nbformat": 4,
 "nbformat_minor": 5
}
